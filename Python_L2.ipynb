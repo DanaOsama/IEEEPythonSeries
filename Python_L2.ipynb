{
  "nbformat": 4,
  "nbformat_minor": 0,
  "metadata": {
    "colab": {
      "name": "Python-L2.ipynb",
      "provenance": [],
      "collapsed_sections": []
    },
    "kernelspec": {
      "name": "python3",
      "display_name": "Python 3"
    }
  },
  "cells": [
    {
      "cell_type": "markdown",
      "metadata": {
        "id": "76j8d85y9tjF"
      },
      "source": [
        "# Intro to Python - Lecture 2\n",
        "## IEEE AUS Student Branch\n",
        "### Dana Osama\n"
      ]
    },
    {
      "cell_type": "markdown",
      "metadata": {
        "id": "WFKplXIw970u"
      },
      "source": [
        "## Strings"
      ]
    },
    {
      "cell_type": "code",
      "metadata": {
        "id": "VnxyrBXX9m35"
      },
      "source": [
        "# A basic string example:\n",
        "# A string can be written in \"\" or ''\n",
        "s1 = \"Okay\"\n",
        "print(s1)\n",
        "\n",
        "s2 = 'Okay'\n",
        "print(s2)\n",
        "\n",
        "# Python does not have a character data type\n",
        "# just a string of length = 1\n",
        "character = 'C'\n",
        "print(type(character))\n",
        "\n",
        "# A multi-line string looks like this:\n",
        "bigString = \"\"\"Hello, everyone!\n",
        "This is IEEE's introduction to Python Series.\n",
        "Lecture 2.\"\"\"\n",
        "\n",
        "print(bigString)\n",
        "\n",
        "# Multi line strings are sometimes used as comments. "
      ],
      "execution_count": null,
      "outputs": []
    },
    {
      "cell_type": "code",
      "metadata": {
        "id": "9AMiRfPZo1Pg"
      },
      "source": [
        "# Strings are immutable\n",
        "s = \"Okayyy\"\n",
        "\n",
        "# This line below will cause an error\n",
        "s[3] = \"a\"\n",
        "print(s)"
      ],
      "execution_count": null,
      "outputs": []
    },
    {
      "cell_type": "markdown",
      "metadata": {
        "id": "NiFBHeynAQZ6"
      },
      "source": [
        "###Indexing Strings"
      ]
    },
    {
      "cell_type": "code",
      "metadata": {
        "id": "dVs-2rdsASfq"
      },
      "source": [
        "# Accessing a single element of a string\n",
        "# Remeber that strings, like lists and other data structures, are zero-based.\n",
        "s = \"Hello, world!\"\n",
        "print(\"The first element in the string is: \", s[0])\n",
        "\n",
        "# To access the last element of the string, you can use the len method to find\n",
        "# the position of the last element\n",
        "sLength = len(s)\n",
        "print(\"The length of the string is: \", sLength)\n",
        "\n",
        "# Since the length of the string is sLength, access the last element using:\n",
        "# Notice how I saved the length of the string in a variable, rather than\n",
        "# hardcoding it - it is better design.\n",
        "print(\"The last character of the string is: \", s[sLength-1])\n"
      ],
      "execution_count": null,
      "outputs": []
    },
    {
      "cell_type": "code",
      "metadata": {
        "id": "P-LiggTc_JvJ"
      },
      "source": [
        "# To access the last element in a simpler manner, use negative indexing:\n",
        "print(\"The last character of the string is: \", s[-1])\n",
        "\n",
        "# We can access any element within a string, as long as its within the range\n",
        "print(s[2])\n",
        "print(s[-5])"
      ],
      "execution_count": null,
      "outputs": []
    },
    {
      "cell_type": "code",
      "metadata": {
        "id": "aQikq5KfDFr7"
      },
      "source": [
        "# What happens if we try to access an element that is outside the range of the \n",
        "# string? Let's try\n",
        "s = \"Hello\"\n",
        "print(len(s))\n",
        "print(s[5])"
      ],
      "execution_count": null,
      "outputs": []
    },
    {
      "cell_type": "markdown",
      "metadata": {
        "id": "mQj2iFpHFGch"
      },
      "source": [
        "###String Slicing"
      ]
    },
    {
      "cell_type": "code",
      "metadata": {
        "id": "FvEFpggLFBQH"
      },
      "source": [
        "# Using the same example, let's try to slice string s\n",
        "# to output only \"Hello\"\n",
        "s = \"Hello, everyone!\"\n",
        "#print(s[0:5])\n",
        "\n",
        "# Let's try with \"everyone\". We can use negative indices\n",
        "# Spoiler: That won't work\n",
        "#print(s[-1:-9])\n",
        "\n",
        "# This works\n",
        "print(s[-9:-1])"
      ],
      "execution_count": null,
      "outputs": []
    },
    {
      "cell_type": "markdown",
      "metadata": {
        "id": "UNF0DmpPGS6l"
      },
      "source": [
        "### String Methods"
      ]
    },
    {
      "cell_type": "markdown",
      "metadata": {
        "id": "9XkfCDDsWrTQ"
      },
      "source": [
        "#### Built-in Methods\n",
        "http://www.asciitable.com/"
      ]
    },
    {
      "cell_type": "code",
      "metadata": {
        "id": "4NqBanriGSS-"
      },
      "source": [
        "char = 'A'\n",
        "num = 65\n",
        "\n",
        "# Using the ord() method to convert int to char\n",
        "charOrd = ord(char)\n",
        "print(charOrd)\n",
        "\n",
        "# Using the chr() method to convert \n",
        "numChr = chr(num)\n",
        "print(numChr)\n"
      ],
      "execution_count": null,
      "outputs": []
    },
    {
      "cell_type": "code",
      "metadata": {
        "id": "dS-RtrgUYLua"
      },
      "source": [
        "# Illustrating case conversion methods\n",
        "s = \"hello, world!\"\n",
        "sCap = s.capitalize()\n",
        "print(sCap)\n",
        "\n",
        "s1 = \"Hello, WORLD!\"\n",
        "sLower = s1.lower()\n",
        "sUpper = s1.upper()\n",
        "sSwap = s1.swapcase()\n",
        "print(sLower)\n",
        "print(sUpper)\n",
        "print(sSwap)"
      ],
      "execution_count": null,
      "outputs": []
    },
    {
      "cell_type": "code",
      "metadata": {
        "id": "CMbaPjCGZsBO"
      },
      "source": [
        "# Illustrating search methods\n",
        "s = \"la la ooh la la\"\n",
        "count = s.count(\"oo\")\n",
        "print(f\"# of occurences of \\\"oo\\\" in s is {count}\")\n",
        "x = s.find(\"ooh\")\n",
        "print(x)\n",
        "\n",
        "newS = s.replace(\"ooh\", \"no\")\n",
        "print(f\"The old string was {s}. The new string is {newS}\")"
      ],
      "execution_count": null,
      "outputs": []
    },
    {
      "cell_type": "code",
      "metadata": {
        "id": "YmBxaeTkcO1H"
      },
      "source": [
        "# Character classification methods\n",
        "password = \"hello123\"\n",
        "\n",
        "if (password.isalnum()):\n",
        "  print(\"Your password is alphanumeric\")\n",
        "\n",
        "# More specific checks\n",
        "if (password.isalpha()):\n",
        "  print(\"Your password has no numbers.\")\n",
        "\n",
        "if (password.isdigit()):\n",
        "  print(\"Your password has no letters\")\n"
      ],
      "execution_count": null,
      "outputs": []
    },
    {
      "cell_type": "markdown",
      "metadata": {
        "id": "MnaoT31DGA4c"
      },
      "source": [
        "### Using Loops on Strings"
      ]
    },
    {
      "cell_type": "code",
      "metadata": {
        "id": "xNkImLv6DAtm"
      },
      "source": [
        "# We can iterate over a string using a for loop:\n",
        "s = \"Hello, world!\"\n",
        "for letter in s:\n",
        "  print(letter, end = \" \")"
      ],
      "execution_count": null,
      "outputs": []
    },
    {
      "cell_type": "markdown",
      "metadata": {
        "id": "wOemHW8IGATD"
      },
      "source": [
        "##Lists\n",
        "###Indexing & Slicing Lists"
      ]
    },
    {
      "cell_type": "code",
      "metadata": {
        "id": "ZTSpmyDPGt_O"
      },
      "source": [
        "l = [\"Red\", \"Green\", \"Blue\", \"Cyan\", \"Magenta\", \"Yellow\", \"Black\"]\n",
        "\n",
        "# Indexing lists\n",
        "print(f\"The first element of the list l is: {l[0]}\")\n",
        "print(f\"The last element of the list l is: {l[-1]}\")\n",
        "\n",
        "# Slicing Lists\n",
        "print(f\"l[1:3] => {l[1:3]}\")\n",
        "print(f\"l[-3:-1] => {l[-3:-1]}\")\n",
        "\n",
        "# This will not work because the 'start' index is greater than the 'end' index\n",
        "print(f\"l[-1:-3] => {l[-1:-3]}\")\n",
        "\n",
        "# If I do not specify the start or the end index, it is implicitly\n",
        "# taken as the first index or last index respectively\n",
        "print(f\"l[:4] => {l[:4]}\")\n",
        "print(f\"l[3:] => {l[3:]}\")\n",
        "\n",
        "# If I do not specify neither the end nor the start, the entire list is printed\n",
        "print(f\"l[:] => {l[:]}\")"
      ],
      "execution_count": null,
      "outputs": []
    },
    {
      "cell_type": "code",
      "metadata": {
        "id": "jbELIql0gUJU"
      },
      "source": [
        "# When specifying a range, the return value will be a new list\n",
        "# with the specified items\n",
        "l = [\"blue\", \"red\", \"yellow\", \"green\"]\n",
        "print(f\"ID of l: {id(l)}\")\n",
        "\n",
        "# Cut a slice\n",
        "l1 = l[:2]\n",
        "print(f\"l1 => {l1}\")\n",
        "print(f\"ID of l1: {id(l1)}\")\n",
        "\n",
        "# Cut a whole big slice\n",
        "l2 = l[:]\n",
        "print(f\"ID of l2: {id(l2)}\")"
      ],
      "execution_count": null,
      "outputs": []
    },
    {
      "cell_type": "markdown",
      "metadata": {
        "id": "1c3WsvSYGudP"
      },
      "source": [
        "###List Methods"
      ]
    },
    {
      "cell_type": "markdown",
      "metadata": {
        "id": "rulbo_Y_jG3q"
      },
      "source": [
        "Use del to remove an element by index, pop() to remove it by index if you need the returned value, and remove() to delete an element by value. The last requires searching the list, and raises ValueError if no such value occurs in the list."
      ]
    },
    {
      "cell_type": "code",
      "metadata": {
        "id": "8tNjxGtiG302"
      },
      "source": [
        "l =[1, 2, 3, 4]\n",
        "\n",
        "# Append an element to the end of a list\n",
        "l.append(5)\n",
        "print(f\"After appending: {l}\")\n",
        "\n",
        "# insert an element at a particular location\n",
        "l.insert(1, 10)\n",
        "print(f\"After insertion: {l}\")\n",
        "\n",
        "# Remove an element\n",
        "l.remove(10)\n",
        "print(f\"After removal: {l}\")\n",
        "\n",
        "# Pop an element\n",
        "element = l.pop()\n",
        "print(f\"After popping: {l}\")\n",
        "print(f\"The popped element is: {element}\")\n",
        "# Clear the list\n",
        "l.clear()\n",
        "print(f\"After clearing: {l}\")\n",
        "\n",
        "# Entirely delete the list\n",
        "del l\n",
        "# print(l)"
      ],
      "execution_count": null,
      "outputs": []
    },
    {
      "cell_type": "markdown",
      "metadata": {
        "id": "NuPb3IDSG27_"
      },
      "source": [
        "### Copying Lists"
      ]
    },
    {
      "cell_type": "code",
      "metadata": {
        "id": "Afa8rIzFG7-w"
      },
      "source": [
        "list1 = [1, 2, 3, 4]\n",
        "# Copying list1 to list2 by using = operator\n",
        "list2 = list1\n",
        "list2.append(5)\n",
        "print(list1)\n",
        "print(list2)\n",
        "print(\"list1 = list2\")\n",
        "\n",
        "### Compare the two IDs of list 1 and list 2\n",
        "if(id(list1) == id(list2)):\n",
        "  print(\"List2 is a shallow copy of list1.\")\n",
        "else:\n",
        "  print(\"List2 is a deep copy of list1.\")\n",
        "\n",
        "del list2\n",
        "del list1\n",
        "# Copying using the copy() method:\n",
        "list1 = [1, 2, 3, 4]\n",
        "list2 = list1.copy()\n",
        "print(\"list2 = list1.copy()\")\n",
        "list2.append(5)\n",
        "print(list1)\n",
        "print(list2)\n",
        "### Compare the two IDs of list 1 and list 2\n",
        "if(id(list1) == id(list2)):\n",
        "  print(\"List2 is a shallow copy of list1.\")\n",
        "else:\n",
        "  print(\"List2 is a deep copy of list1.\")\n",
        "\n",
        "del list2\n",
        "\n",
        "# Use the built-in list() method to copy\n",
        "list2 = list(list1)\n",
        "print(\"list2 = list(list1)\")\n",
        "\n",
        "### Compare the two IDs of list 1 and list 2\n",
        "if(id(list1) == id(list2)):\n",
        "  print(\"List2 is a shallow copy of list1.\")\n",
        "else:\n",
        "  print(\"List2 is a deep copy of list1.\")\n",
        "\n",
        "del list2\n",
        "\n",
        "# Using slicing!\n",
        "list2 = list1[:]\n",
        "print(\"list2 = list1[:]\")\n",
        "\n",
        "### Compare the two IDs of list 1 and list 2\n",
        "if(id(list1) == id(list2)):\n",
        "  print(\"List2 is a shallow copy of list1.\")\n",
        "else:\n",
        "  print(\"List2 is a deep copy of list1.\")\n",
        "\n",
        "del list2"
      ],
      "execution_count": null,
      "outputs": []
    },
    {
      "cell_type": "markdown",
      "metadata": {
        "id": "GoTtZJIiG8wE"
      },
      "source": [
        "###Joining Lists"
      ]
    },
    {
      "cell_type": "code",
      "metadata": {
        "id": "POznNkvHG_Oe"
      },
      "source": [
        "# The first \"long\" way of joining two lists togetther is as follows:\n",
        "list1 = [1, 2, 3, 4]\n",
        "list2 = [5, 6, 7 ,8]\n",
        "\n",
        "# Using a for loop and the append method\n",
        "for item in list2:\n",
        "  list1.append(item)\n",
        "print(f\"After appending: {list1}\")\n",
        "\n",
        "del list1, list2\n",
        "\n",
        "# The second method - The + operator - more readable and concise \n",
        "list1 = [1, 2, 3, 4]\n",
        "list2 = [5, 6, 7 ,8]\n",
        "\n",
        "list3 = list1 + list2\n",
        "print(f\"Using the + operator: {list3}\")\n",
        "\n",
        "# The third method - Using extend()\n",
        "list1.extend(list2)\n",
        "print(f\"Using extend(): {list1}\")"
      ],
      "execution_count": null,
      "outputs": []
    },
    {
      "cell_type": "markdown",
      "metadata": {
        "id": "T6238FI5G_yx"
      },
      "source": [
        "###List Comprehension"
      ]
    },
    {
      "cell_type": "code",
      "metadata": {
        "id": "J1Q_iAMRHDPk"
      },
      "source": [
        "# Instead of doing this:\n",
        "squares1 = []\n",
        "\n",
        "for x in range(1,6):\n",
        "  squares1.append(x**2)\n",
        "\n",
        "print(f\"squares1: {squares1}\")\n",
        "\n",
        "# Using list comprehension - cleaner code\n",
        "squares2 = [x**2 for x in range(1,6)]\n",
        "print(f\"squares2: {squares2}\")"
      ],
      "execution_count": null,
      "outputs": []
    },
    {
      "cell_type": "markdown",
      "metadata": {
        "id": "sAxYnANLHDsp"
      },
      "source": [
        "### Multi-dimensional Lists"
      ]
    },
    {
      "cell_type": "code",
      "metadata": {
        "id": "rFWDom5JHGSC"
      },
      "source": [
        "# A nested list, or a multidimensional list, can be created in the following way:\n",
        "matrix = [[1, 2, 3],[4, 5, 6],[7, 8, 9]]\n",
        "print(\"matrix => \", matrix)\n",
        "\n",
        "# To index our matrix:\n",
        "print(f\"matrix[2] => {matrix[2]}\")\n",
        "print(f\"matrix[:2] => {matrix[:2]}\")\n",
        "\n",
        "# If I want the second element of the second list:\n",
        "print(f\"matrix[1][1] => {matrix[1][1]}\")\n",
        "\n",
        "# If I want the last element of the last list:\n",
        "print(f\"matrix[-1][-1] => {matrix[-1][-1]}\")"
      ],
      "execution_count": null,
      "outputs": []
    },
    {
      "cell_type": "markdown",
      "metadata": {
        "id": "uZdR-Dyq2xQT"
      },
      "source": [
        "### List Comprehensions with multidimensional lists"
      ]
    },
    {
      "cell_type": "code",
      "metadata": {
        "id": "w09ED6_l24bV"
      },
      "source": [
        "# You can use list comprehensions with multidimensional lists as follows\n",
        "y = [[j*2 for j in range(4)] for x in range(3)]\n",
        "\n",
        "print(f\"y => {y}\")"
      ],
      "execution_count": null,
      "outputs": []
    },
    {
      "cell_type": "markdown",
      "metadata": {
        "id": "PUeAA6DOHGzb"
      },
      "source": [
        "##Tuples\n",
        "###Indexing Tuples"
      ]
    },
    {
      "cell_type": "code",
      "metadata": {
        "id": "BII_eZmzHNZD"
      },
      "source": [
        "# You can create a tuple like this:\n",
        "t = \"Mohammad\", \"Ibrahim\", 21\n",
        "\n",
        "# A tuple can also be initialized like this:\n",
        "# t = (\"Mohammad\", \"Ibrahim\", 21)\n",
        "\n",
        "print(f\"t => {t}\")\n",
        "\n",
        "# Let us index this tuple - all indexing techniques previously mentioned apply\n",
        "fName = t[0]\n",
        "lName = t[1]\n",
        "print(f\"The client's name is {fName} {lName}.\")\n",
        "print(f\"The client's age is {t[-1]}.\")\n",
        "# Alternatively, we could have:\n",
        "name = t[:2]\n",
        "print(f\"The client's name is {name[0]} {name[1]}.\")\n",
        "\n",
        "# The tuple \"name\" is a NEW tuple, stored away from t\n",
        "print(f\"ID of t: {id(t)}\")\n",
        "print(f\"ID of name: {id(name)}\")"
      ],
      "execution_count": null,
      "outputs": []
    },
    {
      "cell_type": "markdown",
      "metadata": {
        "id": "0ZWuVXU3HNyw"
      },
      "source": [
        "###Tuple Methods"
      ]
    },
    {
      "cell_type": "code",
      "metadata": {
        "id": "jpjoYynXHShH"
      },
      "source": [
        "tup = (1, 2, 3, 4, 3, 3, 3)\n",
        "\n",
        "# The method count() returns the number of occurences of the specified element\n",
        "target = 3\n",
        "print(f\"The number of occurences of {target} is: {tup.count(target)}\")\n",
        "\n",
        "# index() searched for the specified value and returns the index of\n",
        "# the first occurence\n",
        "print(f\"The index of the first occurence of {target} is: {tup.index(target)}\")"
      ],
      "execution_count": null,
      "outputs": []
    },
    {
      "cell_type": "markdown",
      "metadata": {
        "id": "XKGYNnBcEi1f"
      },
      "source": [
        "###Things You Can Do w/ Tuples"
      ]
    },
    {
      "cell_type": "code",
      "metadata": {
        "id": "MeaNtw5TEnKd"
      },
      "source": [
        "# Check if an element is part of the tuple using \"in\"\n",
        "t = (\"Dog\", \"Fish\", \"Cat\")\n",
        "if \"Dog\" in t:\n",
        "  print(\"Yes\")\n",
        "\n",
        "# You can find the length of a tuple\n",
        "print(f\"The length of tuple t is {len(t)}.\")\n",
        "\n",
        "# You can have a tuple of only one item:\n",
        "t1 = \"one\",\n",
        "print(f\"The type of t1 is {type(t1)}\")\n",
        "\n",
        "# If you forget the comma, then:\n",
        "t2 = \"two\"\n",
        "print(f\"The type of t2 is {type(t2)}\")\n",
        "\n",
        "# You can join two tuples using the + operator\n",
        "t3 = (1, 2, 3)\n",
        "t4 = (4, 5, 6)\n",
        "t5 = t3 + t4\n",
        "print(f\"After joining the two tuples together, the result is {t5}\")"
      ],
      "execution_count": null,
      "outputs": []
    },
    {
      "cell_type": "markdown",
      "metadata": {
        "id": "hhYmWxG3EnnL"
      },
      "source": [
        "###Things You Cannot Do w/ Tuples"
      ]
    },
    {
      "cell_type": "code",
      "metadata": {
        "id": "ds0kXm_i6Uka"
      },
      "source": [
        "tup = 1, 2, 3, 4\n",
        "\n",
        "# The following will produce error\n",
        "tup[2] = 5"
      ],
      "execution_count": null,
      "outputs": []
    },
    {
      "cell_type": "markdown",
      "metadata": {
        "id": "wrcwPHpaHS4J"
      },
      "source": [
        "##Dictionaries\n",
        "###Indexing"
      ]
    },
    {
      "cell_type": "code",
      "metadata": {
        "id": "KS0-G0AOHW1Z"
      },
      "source": [
        "# Creating a dictionary\n",
        "d = {\"name\" : \"Salma\", \"ID\" : 45678, \"Major\": \"Computer Science\", \n",
        "     (\"h\",\"w\"): (160,54)}\n",
        "# Indexing\n",
        "print(d[\"name\"])\n",
        "print(d[(\"h\" , \"w\")])\n",
        "print(d[(\"h\" , \"w\")][1])\n",
        "print(d[\"Major\"])"
      ],
      "execution_count": null,
      "outputs": []
    },
    {
      "cell_type": "markdown",
      "metadata": {
        "id": "QI9KVg0RHXUp"
      },
      "source": [
        "### Dictionary Methods"
      ]
    },
    {
      "cell_type": "code",
      "metadata": {
        "id": "zXfd64UCHeed"
      },
      "source": [
        "colors = {\"blue\": \"calm\", \"yellow\": \"happy\", \"red\":\"love\"}\n",
        "\n",
        "# Using get() to return the value of a specified key\n",
        "x = colors.get(\"blue\") \n",
        "print(\"The value of blue is \", x)\n",
        "\n",
        "# Using items() to return the pairs of keys and values\n",
        "keyValue = colors.items()\n",
        "print(keyValue)\n",
        "\n",
        "# Using keys() and values() to get the  keys and values respectively\n",
        "keys = colors.keys()\n",
        "values = colors.values()\n",
        "print(keys)\n",
        "print(values)\n",
        "\n",
        "# Remove the specified key-value pair\n",
        "popped = colors.pop(\"red\")\n",
        "print(\"The popped value is:\", popped)\n",
        "print(colors)\n",
        "\n",
        "# To clear a dictionry, use clear()\n",
        "colors.clear()\n",
        "print(colors)"
      ],
      "execution_count": null,
      "outputs": []
    },
    {
      "cell_type": "markdown",
      "metadata": {
        "id": "8595d0ZBHfDB"
      },
      "source": [
        "##Sets\n",
        "https://docs.python.org/3/tutorial/datastructures.html"
      ]
    },
    {
      "cell_type": "code",
      "metadata": {
        "id": "SCM0bd9UHk0Q"
      },
      "source": [
        "# Sets will automatically remove duplicate items\n",
        "basket = {'apple', 'orange', 'apple', 'pear', 'orange', 'banana'}\n",
        "print(f\"Basket after removal of duplicates: {basket}\")\n",
        "\n",
        "# Check is an item is inside a set quickly\n",
        "print('orange' in basket)\n",
        "print('cucumber' in basket)"
      ],
      "execution_count": null,
      "outputs": []
    },
    {
      "cell_type": "markdown",
      "metadata": {
        "id": "oVvwNx4IHlZb"
      },
      "source": [
        "### Mathematical Operations on Sets"
      ]
    },
    {
      "cell_type": "code",
      "metadata": {
        "id": "h_cHkxZNKU68"
      },
      "source": [
        "# Creating two sets from strings\n",
        "a = set('abracadabra')\n",
        "b = set('alacazm')\n",
        "print(f\"a: {a}\")\n",
        "print(f\"b: {b}\")\n",
        "\n",
        "# Show the letters in a but not in b\n",
        "print(f\"a-b: {a-b}\")\n",
        "\n",
        "# Show the letters in a or b or both\n",
        "print(f\"a|b: {a|b}\")\n",
        "\n",
        "# Show the letters in a and b\n",
        "print(f\"a&b: {a&b}\")\n",
        "\n",
        "# Show the letters in a or b but not both (Exclusive OR)\n",
        "print(f\"a^b: {a^b}\")"
      ],
      "execution_count": null,
      "outputs": []
    },
    {
      "cell_type": "markdown",
      "metadata": {
        "id": "aPX8YZ83LLVI"
      },
      "source": [
        "### Set Methods\n"
      ]
    },
    {
      "cell_type": "code",
      "metadata": {
        "id": "IOW7ntY7LT8S"
      },
      "source": [
        "a = set('abracadabra')\n",
        "b = set('alacazm')\n",
        "print(f\"a: {a}\")\n",
        "print(f\"b: {b}\")\n",
        "\n",
        "# Add an element to a set\n",
        "a.add('z')\n",
        "print(f\"a: {a}\")\n",
        "\n",
        "# Find the union of both sets\n",
        "print(f\"a.union(b) => {a.union(b)}\")\n",
        "\n",
        "# Remove an element from a set\n",
        "a.remove('a')\n",
        "print(f\"a: {a}\")"
      ],
      "execution_count": null,
      "outputs": []
    }
  ]
}