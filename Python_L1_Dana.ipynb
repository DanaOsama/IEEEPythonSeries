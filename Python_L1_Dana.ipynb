{
  "nbformat": 4,
  "nbformat_minor": 0,
  "metadata": {
    "colab": {
      "name": "Python-L1-Dana.ipynb",
      "provenance": [],
      "collapsed_sections": []
    },
    "kernelspec": {
      "name": "python3",
      "display_name": "Python 3"
    }
  },
  "cells": [
    {
      "cell_type": "markdown",
      "metadata": {
        "id": "GhSZGWm5kLe3",
        "colab_type": "text"
      },
      "source": [
        "# Intro to Python - Lecture 1\n",
        "## IEEE AUS Student Branch\n",
        "### Dana Osama\n",
        "\n"
      ]
    },
    {
      "cell_type": "markdown",
      "metadata": {
        "id": "fdRVDQ7NJS2C",
        "colab_type": "text"
      },
      "source": [
        "## Print Statements"
      ]
    },
    {
      "cell_type": "code",
      "metadata": {
        "id": "Iv2oACtHjeLo",
        "colab_type": "code",
        "colab": {
          "base_uri": "https://localhost:8080/",
          "height": 101
        },
        "outputId": "115fb832-2735-4a1a-dd9c-b87a459d24ac"
      },
      "source": [
        "# Using double or single quotes makes no difference in Python - unlike other \n",
        "# programming languages\n",
        "print(\"Hello, world!\") \n",
        "print()\n",
        "print('\\n')\n",
        "print(\"The above two print statements print two empty lines.\")"
      ],
      "execution_count": null,
      "outputs": [
        {
          "output_type": "stream",
          "text": [
            "Hello, world!\n",
            "\n",
            "\n",
            "\n",
            "The above two print statements print two empty lines.\n"
          ],
          "name": "stdout"
        }
      ]
    },
    {
      "cell_type": "code",
      "metadata": {
        "id": "HLdAJfrWkvEQ",
        "colab_type": "code",
        "colab": {
          "base_uri": "https://localhost:8080/",
          "height": 34
        },
        "outputId": "d6d19b5c-3417-4713-b5d1-1999f67622d8"
      },
      "source": [
        "# You can also pass a variable containing a string, like so:\n",
        "name = 'Jessica'\n",
        "print(name)"
      ],
      "execution_count": null,
      "outputs": [
        {
          "output_type": "stream",
          "text": [
            "Jessica\n"
          ],
          "name": "stdout"
        }
      ]
    },
    {
      "cell_type": "code",
      "metadata": {
        "id": "MEQ3Sp9ilEWW",
        "colab_type": "code",
        "colab": {
          "base_uri": "https://localhost:8080/",
          "height": 50
        },
        "outputId": "7e16f601-8e3c-49c3-e6b7-aa639927b98f"
      },
      "source": [
        "# What if the variable is not a string - i.e. not between '' or \"\"\n",
        "age = 21\n",
        "print(age)\n",
        "print(type(age))"
      ],
      "execution_count": null,
      "outputs": [
        {
          "output_type": "stream",
          "text": [
            "21\n",
            "<class 'int'>\n"
          ],
          "name": "stdout"
        }
      ]
    },
    {
      "cell_type": "code",
      "metadata": {
        "id": "JDRr5wbAlkSO",
        "colab_type": "code",
        "colab": {
          "base_uri": "https://localhost:8080/",
          "height": 34
        },
        "outputId": "2e23c237-69f2-43c4-e239-bd643fd291e7"
      },
      "source": [
        "# Using the keyword arguments\n",
        "# Here, we passed four arguments, two of which are keyword arguments\n",
        "print(\"Hello\",\"world\", sep ='.', end = ':)')\n",
        "print()"
      ],
      "execution_count": null,
      "outputs": [
        {
          "output_type": "stream",
          "text": [
            "Hello.world:)\n"
          ],
          "name": "stdout"
        }
      ]
    },
    {
      "cell_type": "code",
      "metadata": {
        "id": "TxqaF1g7ZpAy",
        "colab_type": "code",
        "colab": {
          "base_uri": "https://localhost:8080/",
          "height": 34
        },
        "outputId": "2d47503f-bf4d-4a6c-84b1-1368148c96a0"
      },
      "source": [
        "# This might be useful if you want to print a file path\n",
        "print(\"C:\", \"Users\", \"admin\", \"Desktop\", \"IEEE\", sep = \"\\\\\")\n",
        "# FYI, the sep and end keyword arguments can take None as an argument\n",
        "# The None keyword is used to define a null value, or no value at all. \n",
        "# None is not the same as 0, False, or an empty string. None is a datatype of \n",
        "# its own (NoneType) and only None can be None."
      ],
      "execution_count": null,
      "outputs": [
        {
          "output_type": "stream",
          "text": [
            "C:\\Users\\admin\\Desktop\\IEEE\n"
          ],
          "name": "stdout"
        }
      ]
    },
    {
      "cell_type": "markdown",
      "metadata": {
        "id": "Q7K9s38Mr1Kz",
        "colab_type": "text"
      },
      "source": [
        "### Escaping Special Characters\n",
        "Some characters in python are special characters, like '\\n' - the newline character,  '\\t' - the tab character, and '\\r' - the carriage return character. Carriage return is essentially where your cursor is pointing. If you want to literally print out any of those characters, they must be escaped using the backslash \\ .\n",
        "\n"
      ]
    },
    {
      "cell_type": "code",
      "metadata": {
        "id": "M9M2GbVQq1bl",
        "colab_type": "code",
        "colab": {
          "base_uri": "https://localhost:8080/",
          "height": 67
        },
        "outputId": "8a673ffa-3b50-4eeb-931d-8f075e7e9beb"
      },
      "source": [
        "# Escaping the tab character by putting \\ before the special character\n",
        "print('\\\\t')\n",
        "# If we do not escape it, it will print a tab.\n",
        "# I will add more text so it's visible\n",
        "print(\"Hello,\",'\\t',\"world!\")"
      ],
      "execution_count": null,
      "outputs": [
        {
          "output_type": "stream",
          "text": [
            "\\t\n",
            "\\\\\\\\\n",
            "Hello, \t world!\n"
          ],
          "name": "stdout"
        }
      ]
    },
    {
      "cell_type": "code",
      "metadata": {
        "id": "a1AHLGNTxElp",
        "colab_type": "code",
        "colab": {
          "base_uri": "https://localhost:8080/",
          "height": 34
        },
        "outputId": "5defff0c-06e0-4383-b43a-9266f4a1d01b"
      },
      "source": [
        "# You can print multiple strings together using the string concatentation operator '+'\n",
        "# This method constructs a new string\n",
        "name = \"Suhaib\"\n",
        "print(\"Hello, \" + name + \"!\")"
      ],
      "execution_count": null,
      "outputs": [
        {
          "output_type": "stream",
          "text": [
            "Hello, Suhaib!\n"
          ],
          "name": "stdout"
        }
      ]
    },
    {
      "cell_type": "markdown",
      "metadata": {
        "id": "ToYqKCmAyU3_",
        "colab_type": "text"
      },
      "source": [
        "### Type-casting\n",
        "Type-casting is when you convert a variable value from one type to another. That is, in Python, done with functions like int() or float() or str()\n",
        "\n",
        "* **int()** - constructs an integer number from an integer literal, a float literal (by rounding down to the previous whole number), or a string literal (providing the string represents a whole number)\n",
        "* **float()** - constructs a float number from an integer literal, a float literal or a string literal (providing the string represents a float or an integer)\n",
        "* **str()** - constructs a string from a wide variety of data types, including strings, integer literals and float literals\n",
        "\n"
      ]
    },
    {
      "cell_type": "code",
      "metadata": {
        "id": "rShYIMJbxs-D",
        "colab_type": "code",
        "colab": {
          "base_uri": "https://localhost:8080/",
          "height": 34
        },
        "outputId": "2ed18a70-d4c5-4b52-fbd3-7cfb6205b5f5"
      },
      "source": [
        "# The concatentation method used above may face some problems if one of the values\n",
        "# was not a string\n",
        "age = 21\n",
        "#print(\"I am \" + age + \"!\")\n",
        "\n",
        "# To solve this, just type-cast the problematic value into a string:\n",
        "print(\"I am \" + str(age) + \"!\")"
      ],
      "execution_count": null,
      "outputs": [
        {
          "output_type": "stream",
          "text": [
            "I am 21!\n"
          ],
          "name": "stdout"
        }
      ]
    },
    {
      "cell_type": "markdown",
      "metadata": {
        "id": "l0BX7oCrymjf",
        "colab_type": "text"
      },
      "source": [
        "### Formatted Printing\n",
        "\n",
        "#### Basic Formatting\n",
        "Simple positional formatting is probably the most common use-case. Use it if the order of your arguments is not likely to change and you only have very few elements you want to concatenate.\n",
        "\n",
        "Since the elements are not represented by something as descriptive as a name this simple style should only be used to format a relatively small number of elements.\n",
        "\n",
        "**Reference:** [PyFormat](https://pyformat.info/)"
      ]
    },
    {
      "cell_type": "code",
      "metadata": {
        "id": "rAYRTQ72ykDv",
        "colab_type": "code",
        "colab": {
          "base_uri": "https://localhost:8080/",
          "height": 34
        },
        "outputId": "9fc39b80-61e2-42d6-f046-3dd6ce9d5871"
      },
      "source": [
        "# Simple positional formatting\n",
        "name = \"Jack\"\n",
        "age = 85\n",
        "print(\"My name is {} and I am {}.\".format(name, age))\n",
        "# Notice how this formatting does not give you a Type error"
      ],
      "execution_count": null,
      "outputs": [
        {
          "output_type": "stream",
          "text": [
            "My name is Jack and I am 85.\n"
          ],
          "name": "stdout"
        }
      ]
    },
    {
      "cell_type": "markdown",
      "metadata": {
        "id": "BejU0UZY3Cir",
        "colab_type": "text"
      },
      "source": [
        "## Getting Input"
      ]
    },
    {
      "cell_type": "code",
      "metadata": {
        "id": "Bd2NtMN_4P3G",
        "colab_type": "code",
        "colab": {
          "base_uri": "https://localhost:8080/",
          "height": 50
        },
        "outputId": "9242e733-18d8-41d9-c993-da10a4f3b824"
      },
      "source": [
        "# You can get input without using a prompt\n",
        "# This is usually a bad design, but it works  ¯\\_(ツ)_/¯\n",
        "# name = input()\n",
        "\n",
        "# Or provide a prompt\n",
        "# This is better design, since the user won't just see a blinking cursor with \n",
        "# no idea what to do\n",
        "name = input(\"What's your name? \")\n",
        "print(\"Hello,\", name)"
      ],
      "execution_count": null,
      "outputs": [
        {
          "output_type": "stream",
          "text": [
            "What's your name? Dana\n",
            "Hello, Dana\n"
          ],
          "name": "stdout"
        }
      ]
    },
    {
      "cell_type": "code",
      "metadata": {
        "id": "jijDXk8R-UNJ",
        "colab_type": "code",
        "colab": {
          "base_uri": "https://localhost:8080/",
          "height": 67
        },
        "outputId": "bd6b9852-e8e4-4478-accf-66e2d756448c"
      },
      "source": [
        "# We can write a small program that includes everything we learnt\n",
        "# First, let's get to know our user\n",
        "name = input(\"What's your name? \")\n",
        "age = input(\"How old are you? \")\n",
        "\n",
        "# Now, let's print a nice \"summary\"\n",
        "print(\"Hello, {}! You are {}!\".format(name.capitalize(), age))"
      ],
      "execution_count": null,
      "outputs": [
        {
          "output_type": "stream",
          "text": [
            "What's your name? Dana\n",
            "How old are you? 21\n",
            "Hello, Dana! You are 21!\n"
          ],
          "name": "stdout"
        }
      ]
    },
    {
      "cell_type": "markdown",
      "metadata": {
        "id": "I9TtTaW8G_zr",
        "colab_type": "text"
      },
      "source": [
        "## Control Flow: Basics of Logic"
      ]
    },
    {
      "cell_type": "code",
      "metadata": {
        "id": "7sQ7PnpjHHER",
        "colab_type": "code",
        "colab": {
          "base_uri": "https://localhost:8080/",
          "height": 84
        },
        "outputId": "69fe750a-ce48-451c-c5ea-0917dacd591f"
      },
      "source": [
        "x = True\n",
        "y = False\n",
        "\n",
        "print(\"x and y evaluates to: \", x and y)\n",
        "print(\"x or y evaluates to: \", x or y)\n",
        "print(\"not x evaluates to: \", not x)\n",
        "print(\"not y evaluates to: \", not y)\n"
      ],
      "execution_count": null,
      "outputs": [
        {
          "output_type": "stream",
          "text": [
            "x and y evaluates to:  False\n",
            "x or y evaluates to:  True\n",
            "not x evaluates to:  False\n",
            "not y evaluates to:  True\n"
          ],
          "name": "stdout"
        }
      ]
    },
    {
      "cell_type": "code",
      "metadata": {
        "id": "FOyV2sPSHfHS",
        "colab_type": "code",
        "colab": {
          "base_uri": "https://localhost:8080/",
          "height": 101
        },
        "outputId": "ef50f385-7b8a-41e9-a200-4911a705e695"
      },
      "source": [
        "x = 5\n",
        "y = 4\n",
        "z = 4\n",
        "print(\"x is equal to y: \", x == y)\n",
        "print(\"x is not equival to y: \", x != y)\n",
        "print(\"x is greater than y: \", x > y)\n",
        "print(\"y is less than or equal to x: \", y <= x)\n",
        "print(\"z is greater than or equal to y: \", z >= y)"
      ],
      "execution_count": null,
      "outputs": [
        {
          "output_type": "stream",
          "text": [
            "x is equal to y:  False\n",
            "x is not equival to y:  True\n",
            "x is greater than y:  True\n",
            "y is less than or equal to x:  True\n",
            "z is greater than or equal to y:  True\n"
          ],
          "name": "stdout"
        }
      ]
    },
    {
      "cell_type": "markdown",
      "metadata": {
        "id": "g1-l-GR3JnO1",
        "colab_type": "text"
      },
      "source": [
        "##Control Flow: If Statements"
      ]
    },
    {
      "cell_type": "code",
      "metadata": {
        "id": "bg3DAAsjJrQn",
        "colab_type": "code",
        "colab": {}
      },
      "source": [
        "# Let's create a small program that computes a person's BMI (Body Mass Index)\n",
        "# First, ask the user for their height and weight\n",
        "height = input(\"Height (m):\")\n",
        "weight = input(\"Weight (kg):\")\n",
        "print(type(height))\n",
        "height = float(height)\n",
        "print(type(height))\n",
        "# Now, we calculate the BMI\n",
        "# The ** operator is known as the exponent operator or power operator\n",
        "# b raised to the power n would be coded as b**n\n",
        "BMI = float(weight) / (float(height)**2)\n",
        "\n",
        "# Let's print out the classification of the BMI\n",
        "# Based on: https://www.nhlbi.nih.gov/health/educational/lose_wt/BMI/bmicalc.htm\n",
        "if (BMI < 18.5):\n",
        "  print(\"Underweight\")\n",
        "elif (BMI >= 18.5 and BMI < 25):\n",
        "  print(\"Normal weight\")\n",
        "elif (BMI >= 25 and BMI < 30):\n",
        "  print(\"Overweight\")\n",
        "else:\n",
        "  print(\"Obese\")"
      ],
      "execution_count": null,
      "outputs": []
    },
    {
      "cell_type": "markdown",
      "metadata": {
        "id": "VHTyr-jXG87M",
        "colab_type": "text"
      },
      "source": [
        "##Control Flow: While Loops"
      ]
    },
    {
      "cell_type": "code",
      "metadata": {
        "id": "hLBKZeWbPL6-",
        "colab_type": "code",
        "colab": {
          "base_uri": "https://localhost:8080/",
          "height": 134
        },
        "outputId": "85f0ed1b-6c53-412d-b383-3688f5614395"
      },
      "source": [
        "# We can see how a while loop works in a simple manner\n",
        "x = 5\n",
        "while(x <= 10):\n",
        "#while (x < 10):\n",
        "  print(\"x: \", x)\n",
        "  x += 1\n",
        "\n",
        "# Checking for the actual value of x after the loop\n",
        "print(\"x after the loop:\", x)"
      ],
      "execution_count": null,
      "outputs": [
        {
          "output_type": "stream",
          "text": [
            "x:  5\n",
            "x:  6\n",
            "x:  7\n",
            "x:  8\n",
            "x:  9\n",
            "x:  10\n",
            "x after the loop: 11\n"
          ],
          "name": "stdout"
        }
      ]
    },
    {
      "cell_type": "code",
      "metadata": {
        "id": "2r_DPuncPgPc",
        "colab_type": "code",
        "colab": {
          "base_uri": "https://localhost:8080/",
          "height": 118
        },
        "outputId": "d0e16cfb-2bc2-47c9-8599-aaf8f88eecf1"
      },
      "source": [
        "# You can also add an else block, which will be executed when the while condition \n",
        "# is False\n",
        "x = 5\n",
        "while (x < 10):\n",
        "  print(\"x: \", x)\n",
        "  x += 1\n",
        "else:\n",
        "  print(\"x's final value is: \", x)"
      ],
      "execution_count": null,
      "outputs": [
        {
          "output_type": "stream",
          "text": [
            "x:  5\n",
            "x:  6\n",
            "x:  7\n",
            "x:  8\n",
            "x:  9\n",
            "x's final value is:  10\n"
          ],
          "name": "stdout"
        }
      ]
    },
    {
      "cell_type": "markdown",
      "metadata": {
        "id": "IuHS94bnejxl",
        "colab_type": "text"
      },
      "source": [
        "##Control Flow: For Loops"
      ]
    },
    {
      "cell_type": "code",
      "metadata": {
        "id": "8Gv0ldUDepsQ",
        "colab_type": "code",
        "colab": {
          "base_uri": "https://localhost:8080/",
          "height": 84
        },
        "outputId": "6047f4b1-5449-4d34-9526-a665583f4944"
      },
      "source": [
        "# We will use a basic list for now and learn more about them later\n",
        "colors = ['blue', 'red', 'yellow', 'green']\n",
        "\n",
        "# Let's print the colors using a for loop\n",
        "for color in colors:\n",
        "  print(color)\n"
      ],
      "execution_count": null,
      "outputs": [
        {
          "output_type": "stream",
          "text": [
            "blue\n",
            "red\n",
            "yellow\n",
            "green\n"
          ],
          "name": "stdout"
        }
      ]
    },
    {
      "cell_type": "markdown",
      "metadata": {
        "id": "f49GRfn4f2s4",
        "colab_type": "text"
      },
      "source": [
        "Enumerate() method adds a counter to an iterable and returns it in a form of enumerate object. This enumerate object can then be used directly in for loops or be converted into a list of tuples using list() method."
      ]
    },
    {
      "cell_type": "code",
      "metadata": {
        "id": "Jf4GkUXbe-LE",
        "colab_type": "code",
        "colab": {
          "base_uri": "https://localhost:8080/",
          "height": 84
        },
        "outputId": "8269909d-7705-49c8-8174-456223ec0386"
      },
      "source": [
        "colors = ['blue', 'red', 'yellow', 'green']\n",
        "\n",
        "# You can also use indices using the enumerate method\n",
        "for i, color in enumerate(colors):\n",
        "  print(str(i + 1) + \". \" + color)"
      ],
      "execution_count": null,
      "outputs": [
        {
          "output_type": "stream",
          "text": [
            "1. blue\n",
            "2. red\n",
            "3. yellow\n",
            "4. green\n"
          ],
          "name": "stdout"
        }
      ]
    },
    {
      "cell_type": "markdown",
      "metadata": {
        "id": "1kkAF-FLeqgC",
        "colab_type": "text"
      },
      "source": [
        "##Control Flow: Useful Statements"
      ]
    },
    {
      "cell_type": "markdown",
      "metadata": {
        "id": "q7HkNc_Bg7KF",
        "colab_type": "text"
      },
      "source": [
        "### The break Statement "
      ]
    },
    {
      "cell_type": "code",
      "metadata": {
        "id": "pp1jxueCgOD1",
        "colab_type": "code",
        "colab": {
          "base_uri": "https://localhost:8080/",
          "height": 84
        },
        "outputId": "50c81409-fde1-4d53-aaf0-10bc54f66798"
      },
      "source": [
        "# Using the break statement can be useful if we want to stop the loop once we \n",
        "# \"find\" a target\n",
        "colors = ['blue', 'red', 'yellow', 'green']\n",
        "target = 'orange'\n",
        "\n",
        "for color in colors:\n",
        "  if color == target:\n",
        "    break\n",
        "  # We can put the print in an else statement, but there is no need for that\n",
        "  print(color)\n"
      ],
      "execution_count": null,
      "outputs": [
        {
          "output_type": "stream",
          "text": [
            "blue\n",
            "red\n",
            "yellow\n",
            "green\n"
          ],
          "name": "stdout"
        }
      ]
    },
    {
      "cell_type": "markdown",
      "metadata": {
        "id": "OZA5Zuaxg_T1",
        "colab_type": "text"
      },
      "source": [
        "### The continue Statement"
      ]
    },
    {
      "cell_type": "code",
      "metadata": {
        "id": "edCQXQxog4cx",
        "colab_type": "code",
        "colab": {
          "base_uri": "https://localhost:8080/",
          "height": 67
        },
        "outputId": "bacc15a3-cd2a-4e17-dd1c-4504f31d3834"
      },
      "source": [
        "# Using the continue statement can be useful to skip a certain entry in an iterable\n",
        "# and continue with the next iteration\n",
        "colors = ['blue', 'red', 'yellow', 'green']\n",
        "skip = \"red\"\n",
        "\n",
        "for color in colors:\n",
        "  if color == skip:\n",
        "    continue\n",
        "  print(color)"
      ],
      "execution_count": null,
      "outputs": [
        {
          "output_type": "stream",
          "text": [
            "blue\n",
            "yellow\n",
            "green\n"
          ],
          "name": "stdout"
        }
      ]
    },
    {
      "cell_type": "markdown",
      "metadata": {
        "id": "bk4WlaTlgO28",
        "colab_type": "text"
      },
      "source": [
        "##Control Flow: The range() Function"
      ]
    },
    {
      "cell_type": "code",
      "metadata": {
        "id": "95Qa1-aegSvo",
        "colab_type": "code",
        "colab": {}
      },
      "source": [
        "# Simple range loop\n",
        "# We will just print the numbers from 0 to 10, inclusive\n",
        "# This means that in our range loop, our end should be 11 \n",
        "for i in range(11):\n",
        "  print(i)"
      ],
      "execution_count": null,
      "outputs": []
    },
    {
      "cell_type": "code",
      "metadata": {
        "id": "10cu9vToklJZ",
        "colab_type": "code",
        "colab": {
          "base_uri": "https://localhost:8080/",
          "height": 34
        },
        "outputId": "affed2d6-6a6e-41db-e9ab-b6f7dbc5ab39"
      },
      "source": [
        "# Let's include a start number for the range loop\n",
        "for i in range (1, 11):\n",
        "  print(i, end = \" \")\n",
        "# Notice how the loop starts from 1 now instead of 0"
      ],
      "execution_count": null,
      "outputs": [
        {
          "output_type": "stream",
          "text": [
            "1 2 3 4 5 6 7 8 9 10 "
          ],
          "name": "stdout"
        }
      ]
    },
    {
      "cell_type": "code",
      "metadata": {
        "id": "k5lTBUJfk3M-",
        "colab_type": "code",
        "colab": {
          "base_uri": "https://localhost:8080/",
          "height": 34
        },
        "outputId": "498d79ad-35ab-42b4-c71a-d2a6a286fc52"
      },
      "source": [
        "# Finally, let's include a step number to print only odd numbers\n",
        "for i in range(2, 10, 2):\n",
        "  print(i, end = \" \")"
      ],
      "execution_count": null,
      "outputs": [
        {
          "output_type": "stream",
          "text": [
            "2 4 6 8 "
          ],
          "name": "stdout"
        }
      ]
    },
    {
      "cell_type": "markdown",
      "metadata": {
        "id": "T3P6608mntiv",
        "colab_type": "text"
      },
      "source": [
        "## Final Notes on Loops"
      ]
    },
    {
      "cell_type": "code",
      "metadata": {
        "id": "UIEOdmDMnwVK",
        "colab_type": "code",
        "colab": {
          "base_uri": "https://localhost:8080/",
          "height": 185
        },
        "outputId": "33415644-602b-489e-e09b-cdd34226775c"
      },
      "source": [
        "# You can nest as many loops as you want, but be careful!\n",
        "# You don't want to kill your PC's resources \n",
        "\n",
        "# Let's print the multiplication table for numbers 2 through 10, inclusive\n",
        "\n",
        "for i in range(1, 11):\n",
        "  for j in range(2,11):\n",
        "    print(\"{}x{}={}\".format(j, i, i*j), end = \"\\t\")\n",
        "  print()"
      ],
      "execution_count": null,
      "outputs": [
        {
          "output_type": "stream",
          "text": [
            "2x1=2\t3x1=3\t4x1=4\t5x1=5\t6x1=6\t7x1=7\t8x1=8\t9x1=9\t10x1=10\t\n",
            "2x2=4\t3x2=6\t4x2=8\t5x2=10\t6x2=12\t7x2=14\t8x2=16\t9x2=18\t10x2=20\t\n",
            "2x3=6\t3x3=9\t4x3=12\t5x3=15\t6x3=18\t7x3=21\t8x3=24\t9x3=27\t10x3=30\t\n",
            "2x4=8\t3x4=12\t4x4=16\t5x4=20\t6x4=24\t7x4=28\t8x4=32\t9x4=36\t10x4=40\t\n",
            "2x5=10\t3x5=15\t4x5=20\t5x5=25\t6x5=30\t7x5=35\t8x5=40\t9x5=45\t10x5=50\t\n",
            "2x6=12\t3x6=18\t4x6=24\t5x6=30\t6x6=36\t7x6=42\t8x6=48\t9x6=54\t10x6=60\t\n",
            "2x7=14\t3x7=21\t4x7=28\t5x7=35\t6x7=42\t7x7=49\t8x7=56\t9x7=63\t10x7=70\t\n",
            "2x8=16\t3x8=24\t4x8=32\t5x8=40\t6x8=48\t7x8=56\t8x8=64\t9x8=72\t10x8=80\t\n",
            "2x9=18\t3x9=27\t4x9=36\t5x9=45\t6x9=54\t7x9=63\t8x9=72\t9x9=81\t10x9=90\t\n",
            "2x10=20\t3x10=30\t4x10=40\t5x10=50\t6x10=60\t7x10=70\t8x10=80\t9x10=90\t10x10=100\t\n"
          ],
          "name": "stdout"
        }
      ]
    },
    {
      "cell_type": "code",
      "metadata": {
        "id": "-MW-Dx5GsQhD",
        "colab_type": "code",
        "colab": {
          "base_uri": "https://localhost:8080/",
          "height": 151
        },
        "outputId": "46ffbcb3-e0d1-447e-ebc6-8a9b0fbb9db3"
      },
      "source": [
        "# Incorportating else statements in your loops can be useful\n",
        "# It can be more descriptive than a simple break statement, like below:\n",
        "x = 10\n",
        "y = 5\n",
        "while(x > y):\n",
        "  print(\"x is still greater than y!\")\n",
        "  y += 2\n",
        "  print(\"y = {}\".format(y))\n",
        "else:\n",
        "  print(\"y is greater than x!\")\n",
        "  print(\"y = {}\".format(y))\n"
      ],
      "execution_count": null,
      "outputs": [
        {
          "output_type": "stream",
          "text": [
            "x is still greater than y!\n",
            "y = 7\n",
            "x is still greater than y!\n",
            "y = 9\n",
            "x is still greater than y!\n",
            "y = 11\n",
            "y is greater than x!\n",
            "y = 11\n"
          ],
          "name": "stdout"
        }
      ]
    }
  ]
}